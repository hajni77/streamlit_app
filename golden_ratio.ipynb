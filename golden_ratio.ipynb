{
 "cells": [
  {
   "cell_type": "markdown",
   "id": "fccae962",
   "metadata": {},
   "source": [
    "# golden ratio"
   ]
  },
  {
   "cell_type": "code",
   "execution_count": 1,
   "id": "cf3f1905",
   "metadata": {},
   "outputs": [
    {
     "name": "stdout",
     "output_type": "stream",
     "text": [
      "Larger part: 2472.14, Smaller part: 1527.86\n"
     ]
    }
   ],
   "source": [
    "import math\n",
    "\n",
    "def golden_ratio_split(total_length: float):\n",
    "    phi = (1 + math.sqrt(5)) / 2  # ≈ 1.618\n",
    "    small = total_length / (phi ** 2)\n",
    "    large = total_length - small\n",
    "    return large, small\n",
    "\n",
    "# Example\n",
    "a, b = golden_ratio_split(4000)\n",
    "print(f\"Larger part: {a:.2f}, Smaller part: {b:.2f}\")\n"
   ]
  },
  {
   "cell_type": "code",
   "execution_count": 3,
   "id": "d0a14a6e",
   "metadata": {},
   "outputs": [
    {
     "name": "stdout",
     "output_type": "stream",
     "text": [
      "Part 1: 1527.86\n",
      "Part 2: 944.27\n",
      "Part 3: 583.59\n",
      "Part 4: 360.68\n",
      "Part 5: 222.91\n",
      "Part 6: 137.77\n",
      "Remaining after 6 parts: 222.91\n"
     ]
    }
   ],
   "source": [
    "import math\n",
    "\n",
    "def golden_ratio_iterative_split(total_length: float, n_parts: int):\n",
    "    phi = (1 + math.sqrt(5)) / 2  # Golden ratio\n",
    "    parts = []\n",
    "    remaining = total_length\n",
    "\n",
    "    for _ in range(n_parts):\n",
    "        current = remaining / (phi**2)\n",
    "        parts.append(current)\n",
    "        remaining -= current\n",
    "\n",
    "    return parts\n",
    "\n",
    "# Example usage\n",
    "total = 4000\n",
    "n = 6\n",
    "result = golden_ratio_iterative_split(total, n)\n",
    "\n",
    "for i, part in enumerate(result, 1):\n",
    "    print(f\"Part {i}: {part:.2f}\")\n",
    "print(f\"Remaining after {n} parts: {total - sum(result):.2f}\")\n"
   ]
  }
 ],
 "metadata": {
  "kernelspec": {
   "display_name": "my-env",
   "language": "python",
   "name": "python3"
  },
  "language_info": {
   "codemirror_mode": {
    "name": "ipython",
    "version": 3
   },
   "file_extension": ".py",
   "mimetype": "text/x-python",
   "name": "python",
   "nbconvert_exporter": "python",
   "pygments_lexer": "ipython3",
   "version": "3.10.13"
  }
 },
 "nbformat": 4,
 "nbformat_minor": 5
}
