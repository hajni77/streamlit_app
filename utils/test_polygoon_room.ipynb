{
 "cells": [
  {
   "cell_type": "markdown",
   "id": "e121097d",
   "metadata": {},
   "source": [
    "# Test functions in case of polygon rooms( L-shape)\n",
    "### 1. Find Opposite wall\n",
    "\n"
   ]
  },
  {
   "cell_type": "code",
   "execution_count": 1,
   "id": "fc588153",
   "metadata": {},
   "outputs": [],
   "source": [
    "\n",
    "from shapely.geometry import Polygon, LineString\n",
    "\n",
    "def extract_walls(polygon: Polygon):\n",
    "    coords = list(polygon.exterior.coords)\n",
    "    return [LineString([coords[i], coords[i+1]]) for i in range(len(coords) - 1)]\n"
   ]
  },
  {
   "cell_type": "markdown",
   "id": "559b2874",
   "metadata": {},
   "source": [
    "### 2. Calculate normal vector and direction vector"
   ]
  },
  {
   "cell_type": "code",
   "execution_count": 2,
   "id": "2b488d7c",
   "metadata": {},
   "outputs": [],
   "source": [
    "import numpy as np\n",
    "\n",
    "def unit_vector(p1, p2):\n",
    "    v = np.array(p2) - np.array(p1)\n",
    "    return v / np.linalg.norm(v)\n",
    "\n",
    "def direction_vector(line):\n",
    "    p1, p2 = line.coords\n",
    "    return unit_vector(p1, p2)\n",
    "\n",
    "def normal_vector(line):\n",
    "    d = direction_vector(line)\n",
    "    return np.array([-d[1], d[0]])  # 90° CCW\n",
    "\n",
    "def wall_midpoint(line):\n",
    "    p1, p2 = line.coords\n",
    "    return (np.array(p1) + np.array(p2)) / 2\n",
    "\n",
    "def are_adjacent(line1, line2):\n",
    "    return set(line1.coords).intersection(set(line2.coords))\n"
   ]
  },
  {
   "cell_type": "code",
   "execution_count": 3,
   "id": "e3b7af97",
   "metadata": {},
   "outputs": [],
   "source": [
    "def find_opposite_and_adjacent(walls, angle_tol=15, parallel_tol=0.95):\n",
    "    result = {}\n",
    "\n",
    "    for i, wall in enumerate(walls):\n",
    "        wall_dir = direction_vector(wall)\n",
    "        wall_norm = normal_vector(wall)\n",
    "        wall_mid = wall_midpoint(wall)\n",
    "\n",
    "        adjacents = []\n",
    "        opposites = []\n",
    "        distances = []\n",
    "\n",
    "        for j, other in enumerate(walls):\n",
    "            if i == j:\n",
    "                continue\n",
    "\n",
    "            other_dir = direction_vector(other)\n",
    "            other_norm = normal_vector(other)\n",
    "            other_mid = wall_midpoint(other)\n",
    "\n",
    "            # Adjacency\n",
    "            if are_adjacent(wall, other):\n",
    "                adjacents.append((j, other))\n",
    "                continue  # skip from opposites\n",
    "\n",
    "            # Check parallelism\n",
    "            dir_dot = np.dot(wall_dir, other_dir)\n",
    "            is_parallel = abs(dir_dot) > parallel_tol\n",
    "\n",
    "            # Normals facing each other\n",
    "            normal_dot = np.dot(wall_norm, other_norm)\n",
    "            facing_each_other = normal_dot < -parallel_tol\n",
    "\n",
    "            if is_parallel and facing_each_other:\n",
    "                # Compute distance between midpoints projected along normal\n",
    "                offset = other_mid - wall_mid\n",
    "                proj = np.dot(offset, wall_norm)\n",
    "                opposites.append((j, other, proj))\n",
    "\n",
    "            # Track all distances\n",
    "            dist = np.linalg.norm(wall_mid - other_mid)\n",
    "            distances.append((j, dist))\n",
    "\n",
    "        # Sort opposite by distance\n",
    "        opposites.sort(key=lambda x: -x[2])  # largest projection along normal\n",
    "        closest = sorted(distances, key=lambda x: x[1])[:2]\n",
    "\n",
    "        result[i] = {\n",
    "            \"adjacent_ids\": [a[0] for a in adjacents],\n",
    "            \"opposite_ids\": [o[0] for o in opposites],\n",
    "            \"closest_ids\": [c[0] for c in closest]\n",
    "        }\n",
    "\n",
    "    return result\n"
   ]
  },
  {
   "cell_type": "code",
   "execution_count": 11,
   "id": "15a2008a",
   "metadata": {},
   "outputs": [],
   "source": [
    "coords = [\n",
    "    (0, 0), (0, 400), (200, 400),\n",
    "    (200, 200), (400, 200), (400, 0)\n",
    "]\n",
    "room = Polygon(coords)\n",
    "walls = extract_walls(room)\n",
    "\n",
    "wall_relations = find_opposite_and_adjacent(walls)\n"
   ]
  },
  {
   "cell_type": "code",
   "execution_count": 6,
   "id": "327cace2",
   "metadata": {},
   "outputs": [
    {
     "name": "stdout",
     "output_type": "stream",
     "text": [
      "wall relations {'adjacent_ids': [1, 5], 'opposite_ids': [4, 2], 'closest_ids': [2, 3]}\n"
     ]
    }
   ],
   "source": [
    "print(\"wall relations\", wall_relations[0])"
   ]
  },
  {
   "cell_type": "code",
   "execution_count": 12,
   "id": "08394ad7",
   "metadata": {},
   "outputs": [
    {
     "name": "stdout",
     "output_type": "stream",
     "text": [
      "wall relations {'adjacent_ids': [1, 5], 'opposite_ids': [2, 4], 'closest_ids': [2, 3]}\n"
     ]
    }
   ],
   "source": [
    "print(\"wall relations\", wall_relations[0])"
   ]
  },
  {
   "cell_type": "markdown",
   "id": "c254694d",
   "metadata": {},
   "source": [
    "### 3. Calculate which wall"
   ]
  },
  {
   "cell_type": "code",
   "execution_count": 19,
   "id": "21e10d0e",
   "metadata": {},
   "outputs": [],
   "source": [
    "import numpy as np\n",
    "\n",
    "def normalize(v):\n",
    "    norm = np.linalg.norm(v)\n",
    "    return v / norm if norm > 1e-6 else v\n",
    "\n",
    "def get_wall_direction(p1, p2, tolerance=0.7):\n",
    "    dx, dy = np.array(p2) - np.array(p1)\n",
    "    direction = normalize((dx, dy))\n",
    "\n",
    "    # Adjusted to screen-style axis: (0,0) top-left\n",
    "    directions = {\n",
    "        'right':    np.array([1, 0]),   # horizontal right →\n",
    "        'left': np.array([-1, 0]),  # horizontal left ←\n",
    "        'top':  np.array([0, 1]),   # vertical down ↓\n",
    "        'bottom':   np.array([0, -1])   # vertical up ↑\n",
    "    }\n",
    "\n",
    "    best_match = None\n",
    "    best_score = -1.0\n",
    "    for name, axis in directions.items():\n",
    "        score = np.dot(direction, axis)\n",
    "        if score > best_score and score > tolerance:\n",
    "            best_match = name\n",
    "            best_score = score\n",
    "\n",
    "    return best_match or 'diagonal'\n"
   ]
  },
  {
   "cell_type": "code",
   "execution_count": 20,
   "id": "ac0c0835",
   "metadata": {},
   "outputs": [
    {
     "name": "stdout",
     "output_type": "stream",
     "text": [
      "Wall 0: (0, 0) → (0, 400) → Direction: top\n",
      "Wall 1: (0, 400) → (200, 400) → Direction: right\n",
      "Wall 2: (200, 400) → (200, 200) → Direction: bottom\n",
      "Wall 3: (200, 200) → (400, 200) → Direction: right\n",
      "Wall 4: (400, 200) → (400, 0) → Direction: bottom\n",
      "Wall 5: (400, 0) → (0, 0) → Direction: left\n"
     ]
    }
   ],
   "source": [
    "coords = [\n",
    "    (0, 0), (0, 400), (200, 400),\n",
    "    (200, 200), (400, 200), (400, 0)\n",
    "]\n",
    "\n",
    "# Create wall segments (wrap around)\n",
    "walls = [(coords[i], coords[(i + 1) % len(coords)]) for i in range(len(coords))]\n",
    "\n",
    "# Classify each wall\n",
    "for idx, (p1, p2) in enumerate(walls):\n",
    "    direction = get_wall_direction(p1, p2)\n",
    "    print(f\"Wall {idx}: {p1} → {p2} → Direction: {direction}\")\n"
   ]
  }
 ],
 "metadata": {
  "kernelspec": {
   "display_name": "my-env",
   "language": "python",
   "name": "python3"
  },
  "language_info": {
   "codemirror_mode": {
    "name": "ipython",
    "version": 3
   },
   "file_extension": ".py",
   "mimetype": "text/x-python",
   "name": "python",
   "nbconvert_exporter": "python",
   "pygments_lexer": "ipython3",
   "version": "3.10.13"
  }
 },
 "nbformat": 4,
 "nbformat_minor": 5
}
